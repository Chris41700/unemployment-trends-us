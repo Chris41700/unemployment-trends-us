{
 "cells": [
  {
   "cell_type": "code",
   "execution_count": 3,
   "id": "195b95b3-80ab-4f1c-9620-da9ab568e560",
   "metadata": {},
   "outputs": [],
   "source": [
    "import numpy as np\n",
    "import pandas as pd"
   ]
  },
  {
   "cell_type": "code",
   "execution_count": 4,
   "id": "88030c69-0dec-4cb3-be42-1bcf0436282f",
   "metadata": {},
   "outputs": [],
   "source": [
    "df = pd.read_csv('../data/raw/Unemployment in America Per US State.csv')"
   ]
  },
  {
   "cell_type": "code",
   "execution_count": 5,
   "id": "480fd55a-7d27-4794-8dde-2ace74c2ffe7",
   "metadata": {},
   "outputs": [
    {
     "name": "stdout",
     "output_type": "stream",
     "text": [
      "   FIPS Code  State/Area  Year  Month  \\\n",
      "0          1     Alabama  1976      1   \n",
      "1          2      Alaska  1976      1   \n",
      "2          4     Arizona  1976      1   \n",
      "3          5    Arkansas  1976      1   \n",
      "4          6  California  1976      1   \n",
      "\n",
      "  Total Civilian Non-Institutional Population in State/Area  \\\n",
      "0                                       2,605,000             \n",
      "1                                         232,000             \n",
      "2                                       1,621,000             \n",
      "3                                       1,536,000             \n",
      "4                                      15,621,000             \n",
      "\n",
      "  Total Civilian Labor Force in State/Area  \\\n",
      "0                             1,484,555      \n",
      "1                               160,183      \n",
      "2                               964,120      \n",
      "3                               889,044      \n",
      "4                             9,774,280      \n",
      "\n",
      "   Percent (%) of State/Area's Population Total Employment in State/Area  \\\n",
      "0                                    57.0                   1,386,023      \n",
      "1                                    69.0                     148,820      \n",
      "2                                    59.5                     865,871      \n",
      "3                                    57.9                     824,395      \n",
      "4                                    62.6                   8,875,685      \n",
      "\n",
      "   Percent (%) of Labor Force Employed in State/Area  \\\n",
      "0                                               53.2   \n",
      "1                                               64.1   \n",
      "2                                               53.4   \n",
      "3                                               53.7   \n",
      "4                                               56.8   \n",
      "\n",
      "  Total Unemployment in State/Area  \\\n",
      "0                        98,532      \n",
      "1                        11,363      \n",
      "2                        98,249      \n",
      "3                        64,649      \n",
      "4                       898,595      \n",
      "\n",
      "   Percent (%) of Labor Force Unemployed in State/Area  \n",
      "0                                                6.6    \n",
      "1                                                7.1    \n",
      "2                                               10.2    \n",
      "3                                                7.3    \n",
      "4                                                9.2    \n"
     ]
    }
   ],
   "source": [
    "print(df.head())"
   ]
  },
  {
   "cell_type": "code",
   "execution_count": 6,
   "id": "2521e265-9a48-42d8-9695-25f2a0b17d8b",
   "metadata": {},
   "outputs": [
    {
     "name": "stdout",
     "output_type": "stream",
     "text": [
      "FIPS Code                                                    0\n",
      "State/Area                                                   0\n",
      "Year                                                         0\n",
      "Month                                                        0\n",
      "Total Civilian Non-Institutional Population in State/Area    0\n",
      "Total Civilian Labor Force in State/Area                     0\n",
      "Percent (%) of State/Area's Population                       0\n",
      "Total Employment in State/Area                               0\n",
      "Percent (%) of Labor Force Employed in State/Area            0\n",
      "Total Unemployment in State/Area                             0\n",
      "Percent (%) of Labor Force Unemployed in State/Area          0\n",
      "dtype: int64\n"
     ]
    }
   ],
   "source": [
    "null_values = df.isnull().sum()\n",
    "print(null_values)"
   ]
  },
  {
   "cell_type": "code",
   "execution_count": null,
   "id": "1b15dde3-b914-435b-896a-a06f0677778f",
   "metadata": {},
   "outputs": [],
   "source": []
  }
 ],
 "metadata": {
  "kernelspec": {
   "display_name": "Python 3 (ipykernel)",
   "language": "python",
   "name": "python3"
  },
  "language_info": {
   "codemirror_mode": {
    "name": "ipython",
    "version": 3
   },
   "file_extension": ".py",
   "mimetype": "text/x-python",
   "name": "python",
   "nbconvert_exporter": "python",
   "pygments_lexer": "ipython3",
   "version": "3.11.7"
  }
 },
 "nbformat": 4,
 "nbformat_minor": 5
}
