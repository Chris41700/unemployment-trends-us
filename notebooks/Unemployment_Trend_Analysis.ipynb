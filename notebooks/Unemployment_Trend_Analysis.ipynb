{
 "cells": [
  {
   "cell_type": "code",
   "execution_count": 1,
   "id": "195b95b3-80ab-4f1c-9620-da9ab568e560",
   "metadata": {},
   "outputs": [],
   "source": [
    "import numpy as np\n",
    "import pandas as pd"
   ]
  },
  {
   "cell_type": "code",
   "execution_count": 2,
   "id": "88030c69-0dec-4cb3-be42-1bcf0436282f",
   "metadata": {},
   "outputs": [],
   "source": [
    "df = pd.read_csv('../data/raw/Unemployment in America Per US State.csv')"
   ]
  },
  {
   "cell_type": "code",
   "execution_count": 3,
   "id": "480fd55a-7d27-4794-8dde-2ace74c2ffe7",
   "metadata": {},
   "outputs": [
    {
     "name": "stdout",
     "output_type": "stream",
     "text": [
      "   FIPS Code  State/Area  Year  Month  \\\n",
      "0          1     Alabama  1976      1   \n",
      "1          2      Alaska  1976      1   \n",
      "2          4     Arizona  1976      1   \n",
      "3          5    Arkansas  1976      1   \n",
      "4          6  California  1976      1   \n",
      "\n",
      "  Total Civilian Non-Institutional Population in State/Area  \\\n",
      "0                                       2,605,000             \n",
      "1                                         232,000             \n",
      "2                                       1,621,000             \n",
      "3                                       1,536,000             \n",
      "4                                      15,621,000             \n",
      "\n",
      "  Total Civilian Labor Force in State/Area  \\\n",
      "0                             1,484,555      \n",
      "1                               160,183      \n",
      "2                               964,120      \n",
      "3                               889,044      \n",
      "4                             9,774,280      \n",
      "\n",
      "   Percent (%) of State/Area's Population Total Employment in State/Area  \\\n",
      "0                                    57.0                   1,386,023      \n",
      "1                                    69.0                     148,820      \n",
      "2                                    59.5                     865,871      \n",
      "3                                    57.9                     824,395      \n",
      "4                                    62.6                   8,875,685      \n",
      "\n",
      "   Percent (%) of Labor Force Employed in State/Area  \\\n",
      "0                                               53.2   \n",
      "1                                               64.1   \n",
      "2                                               53.4   \n",
      "3                                               53.7   \n",
      "4                                               56.8   \n",
      "\n",
      "  Total Unemployment in State/Area  \\\n",
      "0                        98,532      \n",
      "1                        11,363      \n",
      "2                        98,249      \n",
      "3                        64,649      \n",
      "4                       898,595      \n",
      "\n",
      "   Percent (%) of Labor Force Unemployed in State/Area  \n",
      "0                                                6.6    \n",
      "1                                                7.1    \n",
      "2                                               10.2    \n",
      "3                                                7.3    \n",
      "4                                                9.2    \n"
     ]
    }
   ],
   "source": [
    "print(df.head())"
   ]
  },
  {
   "cell_type": "code",
   "execution_count": 4,
   "id": "1b15dde3-b914-435b-896a-a06f0677778f",
   "metadata": {},
   "outputs": [
    {
     "name": "stdout",
     "output_type": "stream",
     "text": [
      "<class 'pandas.core.frame.DataFrame'>\n",
      "RangeIndex: 29892 entries, 0 to 29891\n",
      "Data columns (total 11 columns):\n",
      " #   Column                                                     Non-Null Count  Dtype  \n",
      "---  ------                                                     --------------  -----  \n",
      " 0   FIPS Code                                                  29892 non-null  int64  \n",
      " 1   State/Area                                                 29892 non-null  object \n",
      " 2   Year                                                       29892 non-null  int64  \n",
      " 3   Month                                                      29892 non-null  int64  \n",
      " 4   Total Civilian Non-Institutional Population in State/Area  29892 non-null  object \n",
      " 5   Total Civilian Labor Force in State/Area                   29892 non-null  object \n",
      " 6   Percent (%) of State/Area's Population                     29892 non-null  float64\n",
      " 7   Total Employment in State/Area                             29892 non-null  object \n",
      " 8   Percent (%) of Labor Force Employed in State/Area          29892 non-null  float64\n",
      " 9   Total Unemployment in State/Area                           29892 non-null  object \n",
      " 10  Percent (%) of Labor Force Unemployed in State/Area        29892 non-null  float64\n",
      "dtypes: float64(3), int64(3), object(5)\n",
      "memory usage: 2.5+ MB\n",
      "None\n"
     ]
    }
   ],
   "source": [
    "print(df.info())"
   ]
  },
  {
   "cell_type": "code",
   "execution_count": 5,
   "id": "0f652b0e-7781-4763-b7a6-672b1db71cc5",
   "metadata": {},
   "outputs": [
    {
     "name": "stdout",
     "output_type": "stream",
     "text": [
      "          FIPS Code          Year        Month  \\\n",
      "count  29892.000000  29892.000000  29892.00000   \n",
      "mean     990.830189   1999.000000      6.50000   \n",
      "std     6935.157218     13.564887      3.45211   \n",
      "min        1.000000   1976.000000      1.00000   \n",
      "25%       17.000000   1987.000000      3.75000   \n",
      "50%       30.000000   1999.000000      6.50000   \n",
      "75%       42.000000   2011.000000      9.25000   \n",
      "max    51000.000000   2022.000000     12.00000   \n",
      "\n",
      "       Percent (%) of State/Area's Population  \\\n",
      "count                            29892.000000   \n",
      "mean                                65.516202   \n",
      "std                                  4.304355   \n",
      "min                                 51.000000   \n",
      "25%                                 62.800000   \n",
      "50%                                 65.900000   \n",
      "75%                                 68.500000   \n",
      "max                                 75.700000   \n",
      "\n",
      "       Percent (%) of Labor Force Employed in State/Area  \\\n",
      "count                                       29892.000000   \n",
      "mean                                           61.670417   \n",
      "std                                             4.739074   \n",
      "min                                            41.600000   \n",
      "25%                                            58.600000   \n",
      "50%                                            61.800000   \n",
      "75%                                            65.100000   \n",
      "max                                            73.100000   \n",
      "\n",
      "       Percent (%) of Labor Force Unemployed in State/Area  \n",
      "count                                       29892.000000    \n",
      "mean                                            5.920788    \n",
      "std                                             2.207521    \n",
      "min                                             1.900000    \n",
      "25%                                             4.300000    \n",
      "50%                                             5.500000    \n",
      "75%                                             7.100000    \n",
      "max                                            30.600000    \n"
     ]
    }
   ],
   "source": [
    "print(df.describe())"
   ]
  },
  {
   "cell_type": "code",
   "execution_count": 6,
   "id": "2521e265-9a48-42d8-9695-25f2a0b17d8b",
   "metadata": {},
   "outputs": [
    {
     "name": "stdout",
     "output_type": "stream",
     "text": [
      "FIPS Code                                                    0\n",
      "State/Area                                                   0\n",
      "Year                                                         0\n",
      "Month                                                        0\n",
      "Total Civilian Non-Institutional Population in State/Area    0\n",
      "Total Civilian Labor Force in State/Area                     0\n",
      "Percent (%) of State/Area's Population                       0\n",
      "Total Employment in State/Area                               0\n",
      "Percent (%) of Labor Force Employed in State/Area            0\n",
      "Total Unemployment in State/Area                             0\n",
      "Percent (%) of Labor Force Unemployed in State/Area          0\n",
      "dtype: int64\n"
     ]
    }
   ],
   "source": [
    "null_values = df.isnull().sum()\n",
    "print(null_values)"
   ]
  },
  {
   "cell_type": "code",
   "execution_count": 7,
   "id": "c24fd172-e2a3-4253-8f11-80f81a1133cb",
   "metadata": {},
   "outputs": [
    {
     "name": "stdout",
     "output_type": "stream",
     "text": [
      "Number of duplicate rows: 0\n"
     ]
    }
   ],
   "source": [
    "duplicates = df.duplicated()\n",
    "print(\"Number of duplicate rows:\", duplicates.sum())"
   ]
  },
  {
   "cell_type": "code",
   "execution_count": null,
   "id": "e6f559d7-a643-4fa2-94e9-a33fe43ae50f",
   "metadata": {},
   "outputs": [],
   "source": []
  }
 ],
 "metadata": {
  "kernelspec": {
   "display_name": "Python 3 (ipykernel)",
   "language": "python",
   "name": "python3"
  },
  "language_info": {
   "codemirror_mode": {
    "name": "ipython",
    "version": 3
   },
   "file_extension": ".py",
   "mimetype": "text/x-python",
   "name": "python",
   "nbconvert_exporter": "python",
   "pygments_lexer": "ipython3",
   "version": "3.11.7"
  }
 },
 "nbformat": 4,
 "nbformat_minor": 5
}
