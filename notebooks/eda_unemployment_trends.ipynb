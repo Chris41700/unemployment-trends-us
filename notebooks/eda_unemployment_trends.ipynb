{
 "cells": [
  {
   "cell_type": "code",
   "execution_count": 1,
   "id": "a3dada72-2b96-4ed8-841b-c4c2e2dfe990",
   "metadata": {},
   "outputs": [],
   "source": [
    "import numpy as np\n",
    "import pandas as pd\n",
    "import matplotlib.pyplot as plt\n",
    "import seaborn as sns"
   ]
  },
  {
   "cell_type": "code",
   "execution_count": 2,
   "id": "a444f397-421f-4668-8dde-bc7dda65e048",
   "metadata": {},
   "outputs": [],
   "source": [
    "df = pd.read_csv('../data/processed/cleaned_unemployment_in_america_per_us_state.csv')"
   ]
  },
  {
   "cell_type": "code",
   "execution_count": 3,
   "id": "45b6f34f-8c9f-4d5b-924a-e19c8dca3e98",
   "metadata": {},
   "outputs": [
    {
     "data": {
      "text/html": [
       "<div>\n",
       "<style scoped>\n",
       "    .dataframe tbody tr th:only-of-type {\n",
       "        vertical-align: middle;\n",
       "    }\n",
       "\n",
       "    .dataframe tbody tr th {\n",
       "        vertical-align: top;\n",
       "    }\n",
       "\n",
       "    .dataframe thead th {\n",
       "        text-align: right;\n",
       "    }\n",
       "</style>\n",
       "<table border=\"1\" class=\"dataframe\">\n",
       "  <thead>\n",
       "    <tr style=\"text-align: right;\">\n",
       "      <th></th>\n",
       "      <th>State/Area</th>\n",
       "      <th>Year</th>\n",
       "      <th>Month</th>\n",
       "      <th>Total Civilian Labor Force in State/Area</th>\n",
       "      <th>Percent (%) of State/Area's Population</th>\n",
       "      <th>Total Employment in State/Area</th>\n",
       "      <th>Percent (%) of Labor Force Employed in State/Area</th>\n",
       "      <th>Total Unemployment in State/Area</th>\n",
       "      <th>Percent (%) of Labor Force Unemployed in State/Area</th>\n",
       "    </tr>\n",
       "  </thead>\n",
       "  <tbody>\n",
       "    <tr>\n",
       "      <th>0</th>\n",
       "      <td>Alabama</td>\n",
       "      <td>1976</td>\n",
       "      <td>1</td>\n",
       "      <td>1484555</td>\n",
       "      <td>57.0</td>\n",
       "      <td>1386023</td>\n",
       "      <td>53.2</td>\n",
       "      <td>98532</td>\n",
       "      <td>6.6</td>\n",
       "    </tr>\n",
       "    <tr>\n",
       "      <th>1</th>\n",
       "      <td>Alaska</td>\n",
       "      <td>1976</td>\n",
       "      <td>1</td>\n",
       "      <td>160183</td>\n",
       "      <td>69.0</td>\n",
       "      <td>148820</td>\n",
       "      <td>64.1</td>\n",
       "      <td>11363</td>\n",
       "      <td>7.1</td>\n",
       "    </tr>\n",
       "    <tr>\n",
       "      <th>2</th>\n",
       "      <td>Arizona</td>\n",
       "      <td>1976</td>\n",
       "      <td>1</td>\n",
       "      <td>964120</td>\n",
       "      <td>59.5</td>\n",
       "      <td>865871</td>\n",
       "      <td>53.4</td>\n",
       "      <td>98249</td>\n",
       "      <td>10.2</td>\n",
       "    </tr>\n",
       "    <tr>\n",
       "      <th>3</th>\n",
       "      <td>Arkansas</td>\n",
       "      <td>1976</td>\n",
       "      <td>1</td>\n",
       "      <td>889044</td>\n",
       "      <td>57.9</td>\n",
       "      <td>824395</td>\n",
       "      <td>53.7</td>\n",
       "      <td>64649</td>\n",
       "      <td>7.3</td>\n",
       "    </tr>\n",
       "    <tr>\n",
       "      <th>4</th>\n",
       "      <td>California</td>\n",
       "      <td>1976</td>\n",
       "      <td>1</td>\n",
       "      <td>9774280</td>\n",
       "      <td>62.6</td>\n",
       "      <td>8875685</td>\n",
       "      <td>56.8</td>\n",
       "      <td>898595</td>\n",
       "      <td>9.2</td>\n",
       "    </tr>\n",
       "  </tbody>\n",
       "</table>\n",
       "</div>"
      ],
      "text/plain": [
       "   State/Area  Year  Month  Total Civilian Labor Force in State/Area  \\\n",
       "0     Alabama  1976      1                                   1484555   \n",
       "1      Alaska  1976      1                                    160183   \n",
       "2     Arizona  1976      1                                    964120   \n",
       "3    Arkansas  1976      1                                    889044   \n",
       "4  California  1976      1                                   9774280   \n",
       "\n",
       "   Percent (%) of State/Area's Population  Total Employment in State/Area  \\\n",
       "0                                    57.0                         1386023   \n",
       "1                                    69.0                          148820   \n",
       "2                                    59.5                          865871   \n",
       "3                                    57.9                          824395   \n",
       "4                                    62.6                         8875685   \n",
       "\n",
       "   Percent (%) of Labor Force Employed in State/Area  \\\n",
       "0                                               53.2   \n",
       "1                                               64.1   \n",
       "2                                               53.4   \n",
       "3                                               53.7   \n",
       "4                                               56.8   \n",
       "\n",
       "   Total Unemployment in State/Area  \\\n",
       "0                             98532   \n",
       "1                             11363   \n",
       "2                             98249   \n",
       "3                             64649   \n",
       "4                            898595   \n",
       "\n",
       "   Percent (%) of Labor Force Unemployed in State/Area  \n",
       "0                                                6.6    \n",
       "1                                                7.1    \n",
       "2                                               10.2    \n",
       "3                                                7.3    \n",
       "4                                                9.2    "
      ]
     },
     "execution_count": 3,
     "metadata": {},
     "output_type": "execute_result"
    }
   ],
   "source": [
    "df.head()"
   ]
  },
  {
   "cell_type": "code",
   "execution_count": 4,
   "id": "a0dac516-b209-4476-8b0c-6107ee61357a",
   "metadata": {},
   "outputs": [
    {
     "ename": "NameError",
     "evalue": "name 'numeric_columns' is not defined",
     "output_type": "error",
     "traceback": [
      "\u001b[1;31m---------------------------------------------------------------------------\u001b[0m",
      "\u001b[1;31mNameError\u001b[0m                                 Traceback (most recent call last)",
      "Cell \u001b[1;32mIn[4], line 1\u001b[0m\n\u001b[1;32m----> 1\u001b[0m annual_data \u001b[38;5;241m=\u001b[39m df\u001b[38;5;241m.\u001b[39mgroupby([\u001b[38;5;124m'\u001b[39m\u001b[38;5;124mYear\u001b[39m\u001b[38;5;124m'\u001b[39m, \u001b[38;5;124m'\u001b[39m\u001b[38;5;124mState/Area\u001b[39m\u001b[38;5;124m'\u001b[39m])[numeric_columns]\u001b[38;5;241m.\u001b[39mmean()\u001b[38;5;241m.\u001b[39mreset_index()\n",
      "\u001b[1;31mNameError\u001b[0m: name 'numeric_columns' is not defined"
     ]
    }
   ],
   "source": [
    "annual_data = df.groupby(['Year', 'State/Area'])[numeric_columns].mean().reset_index()"
   ]
  },
  {
   "cell_type": "code",
   "execution_count": null,
   "id": "e8ca3860-0953-42d8-b4dc-c50dd04c8af3",
   "metadata": {},
   "outputs": [],
   "source": [
    "plt.figure(figsize=(12, 6))\n",
    "plt.plot(annual_data.index, annual_data['Percent (%) of Labor Force Unemployed in State/Area'], marker='o')\n",
    "plt.title('Average Unemployment Rate Over Time (1976-2022)')\n",
    "plt.xlabel('Year')\n",
    "plt.ylabel('Unemployment Rate (%)')\n",
    "plt.grid(True)\n",
    "plt.show()"
   ]
  }
 ],
 "metadata": {
  "kernelspec": {
   "display_name": "Python 3 (ipykernel)",
   "language": "python",
   "name": "python3"
  },
  "language_info": {
   "codemirror_mode": {
    "name": "ipython",
    "version": 3
   },
   "file_extension": ".py",
   "mimetype": "text/x-python",
   "name": "python",
   "nbconvert_exporter": "python",
   "pygments_lexer": "ipython3",
   "version": "3.11.7"
  }
 },
 "nbformat": 4,
 "nbformat_minor": 5
}
